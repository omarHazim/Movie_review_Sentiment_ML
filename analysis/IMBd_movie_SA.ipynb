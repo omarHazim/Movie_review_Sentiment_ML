{
 "cells": [
  {
   "cell_type": "markdown",
   "metadata": {},
   "source": [
    "# Applying Machine Learning to Sentiment Analysis"
   ]
  },
  {
   "cell_type": "code",
   "execution_count": 70,
   "metadata": {},
   "outputs": [],
   "source": [
    "# import libs\n",
    "import pandas as pd\n",
    "import numpy as np\n",
    "import pyprind\n",
    "import os"
   ]
  },
  {
   "cell_type": "code",
   "execution_count": 71,
   "metadata": {},
   "outputs": [],
   "source": [
    "# Obtaining the IMDb movie review dataset\n",
    "\n",
    "def create_sa_df():\n",
    "    '''obtaining movie data'''\n",
    "    pbar = pyprind.ProgBar(50000)\n",
    "    labels = {'pos':1, 'neg':0}\n",
    "    df = pd.DataFrame()\n",
    "    for s in ('train', 'test'):\n",
    "        for i in ('pos','neg'):\n",
    "            path = 'C://Users//omar.hazim//movie_review//movie_dataset//aclImdb//%s//%s' %(s,i)\n",
    "            for file in os.listdir(path):\n",
    "                with open(os.path.join(path, file), encoding=\"utf8\") as infile:\n",
    "                    txt = infile.read()\n",
    "                    df = df.append([[txt, labels[i]]], ignore_index=True)\n",
    "                    pbar.update()\n",
    "    df.columns = ['review', 'sentiment']\n",
    "    return df\n",
    "\n",
    "def shuffle_dataset(df):\n",
    "    '''shuffle the stored data to prepare for splitting training and testing datasets'''\n",
    "    np.random.seed(0)\n",
    "    df = df.reindex(np.random.permutation(df.index))\n",
    "    return df.to_csv('C://Users//omar.hazim//movie_review//movie_dataset//mv_data.csv', index=False)"
   ]
  },
  {
   "cell_type": "code",
   "execution_count": null,
   "metadata": {},
   "outputs": [
    {
     "name": "stderr",
     "output_type": "stream",
     "text": [
      "0% [############################  ] 100% | ETA: 00:01:38"
     ]
    }
   ],
   "source": [
    "# Creat main file \n",
    "\n",
    "def main():\n",
    "    # Reading training/testing \n",
    "    df = create_sa_df()\n",
    "    print(df.head())\n",
    "    \n",
    "    #Shuffle dataset and create .csv file\n",
    "    shuffle_dataset(df)\n",
    "    df_shuffled = pd.read_csv('C://Users//omar.hazim//movie_review//movie_data//raw_data//mv_data.csv')\n",
    "    print('Shuffled dataset:',df_shuffled.head())\n",
    "    \n",
    "    \n",
    "\n",
    "if __name__ == '__main__':\n",
    "    main()"
   ]
  },
  {
   "cell_type": "code",
   "execution_count": null,
   "metadata": {},
   "outputs": [],
   "source": []
  },
  {
   "cell_type": "code",
   "execution_count": null,
   "metadata": {},
   "outputs": [],
   "source": []
  },
  {
   "cell_type": "code",
   "execution_count": null,
   "metadata": {},
   "outputs": [],
   "source": []
  }
 ],
 "metadata": {
  "kernelspec": {
   "display_name": "Python 3",
   "language": "python",
   "name": "python3"
  },
  "language_info": {
   "codemirror_mode": {
    "name": "ipython",
    "version": 3
   },
   "file_extension": ".py",
   "mimetype": "text/x-python",
   "name": "python",
   "nbconvert_exporter": "python",
   "pygments_lexer": "ipython3",
   "version": "3.6.8"
  }
 },
 "nbformat": 4,
 "nbformat_minor": 2
}
